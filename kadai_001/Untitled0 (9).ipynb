{
  "nbformat": 4,
  "nbformat_minor": 0,
  "metadata": {
    "colab": {
      "provenance": []
    },
    "kernelspec": {
      "name": "python3",
      "display_name": "Python 3"
    },
    "language_info": {
      "name": "python"
    }
  },
  "cells": [
    {
      "cell_type": "code",
      "execution_count": 1,
      "metadata": {
        "colab": {
          "base_uri": "https://localhost:8080/"
        },
        "id": "NV3Za6GWrM4r",
        "outputId": "169309ff-0f38-4e52-ceec-777cff06bcdd"
      },
      "outputs": [
        {
          "output_type": "stream",
          "name": "stdout",
          "text": [
            "Requirement already satisfied: requests in /usr/local/lib/python3.12/dist-packages (2.32.4)\n",
            "Requirement already satisfied: beautifulsoup4 in /usr/local/lib/python3.12/dist-packages (4.13.5)\n",
            "Requirement already satisfied: charset_normalizer<4,>=2 in /usr/local/lib/python3.12/dist-packages (from requests) (3.4.3)\n",
            "Requirement already satisfied: idna<4,>=2.5 in /usr/local/lib/python3.12/dist-packages (from requests) (3.10)\n",
            "Requirement already satisfied: urllib3<3,>=1.21.1 in /usr/local/lib/python3.12/dist-packages (from requests) (2.5.0)\n",
            "Requirement already satisfied: certifi>=2017.4.17 in /usr/local/lib/python3.12/dist-packages (from requests) (2025.8.3)\n",
            "Requirement already satisfied: soupsieve>1.2 in /usr/local/lib/python3.12/dist-packages (from beautifulsoup4) (2.8)\n",
            "Requirement already satisfied: typing-extensions>=4.0.0 in /usr/local/lib/python3.12/dist-packages (from beautifulsoup4) (4.15.0)\n"
          ]
        }
      ],
      "source": [
        "!pip install requests beautifulsoup4"
      ]
    },
    {
      "cell_type": "code",
      "source": [
        "url = \"https://news.yahoo.co.jp/articles/7a5ceedff8651732b4fc94f089b7733372235c64\"\n",
        "\n",
        "import requests\n",
        "from bs4 import BeautifulSoup\n",
        "\n",
        "# ページ取得\n",
        "response = requests.get(url)\n",
        "soup = BeautifulSoup(response.content, \"html.parser\")\n",
        "\n",
        "# 本文抽出（Yahoo!ニュースは <article> タグ内に本文がある）\n",
        "article = soup.find(\"article\")\n",
        "\n",
        "if article:\n",
        "    paragraphs = article.find_all(\"p\")\n",
        "    for p in paragraphs:\n",
        "        print(p.get_text())\n",
        "else:\n",
        "    print(\"記事本文が見つかりませんでした。URLを確認してください。\")\n"
      ],
      "metadata": {
        "colab": {
          "base_uri": "https://localhost:8080/"
        },
        "id": "OfgHYtburT4r",
        "outputId": "3ae513dd-265a-458a-dae3-39cff91ab412"
      },
      "execution_count": 2,
      "outputs": [
        {
          "output_type": "stream",
          "name": "stdout",
          "text": [
            "9/18(木) 9:50配信\n",
            "リーチ マイケルは「ブライトンの奇跡」から10年で何を語る？　photo by Koreeda Ukyo\n",
            "「ブライトンの奇跡」から10年リーチ マイケル・インタビュー（前編）\n",
            "\n",
            "　世界のスポーツ史において、9月19日は特別な一日である。\n",
            "\n",
            "【ラグビーＷ杯フォト】日本代表「ブライトンの奇跡」プレイバック（23点）\n",
            "\n",
            "　2015年にイングランドで行なわれたラグビーワールドカップで、日本が南アフリカを破った日だからだ。\n",
            "\n",
            "　過去7度のワールドカップでわずか1勝に終わっていた日本が、2度の優勝を誇りプール戦では1度しか負けたことのない南アフリカを撃破──。その事実は超ド級の衝撃とともに、世界へ広がっていった。「あらゆるスポーツの競技を含めて史上最大の番狂わせ」と言われ、その舞台となった都市の名前を冠して「ブライトンの奇跡」と呼ばれるようになった。\n",
            "\n",
            "　　　※　　　※　　　※　　　※　　　※\n",
            "\n",
            "「実はフルタイムでは、あの試合をまだ一度も見ていないんです。あれから10年ということで、最近またSNSで映像が流れることが多い。いろいろなところで取り上げられているから、あえて見るまでもないかな、という感じなんです」\n",
            "\n",
            "　キャプテンとしてチームを牽引したFLリーチ マイケルは、そう言って小さな笑みをこぼした。フルタイムで見ていなくとも、記憶は鮮明だ。\n",
            "\n",
            "※ポジションの略称＝HO（フッカー）、PR（プロップ）、LO（ロック）、FL（フランカー）、No.8（ナンバーエイト）、SH（スクラムハーフ）、SO（スタンドオフ）、CTB（センター）、WTB（ウイング）、FB（フルバック）\n",
            "\n",
            "「勝因として、まず僕が挙げるのは『準備』ですね。南アフリカに勝つための正しい準備を積み上げていきました。ホントにハードワークをしましたから」\n",
            "\n",
            "　ワールドカップイヤーの4月から8月までにかけて、日本代表は10回に分けて、延べ75日間の合宿を行なった。その間に、国際大会やテストマッチを戦い、海外にも遠征した。前年の2014年も100日以上が合宿に費やされた。\n",
            "\n",
            "「合宿はホントにキツかったですね。自分の限界をどんどん伸ばしていって、毎日が限界突破でした（苦笑）。自分たちは世界一練習したチームだし、これだけやったんだから結果がほしいと思いましたよ。そして、これだけやったんだからという自信になっていました」\n",
            "1/3ページ\n"
          ]
        }
      ]
    }
  ]
}